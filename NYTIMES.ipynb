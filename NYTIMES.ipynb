{
 "cells": [
  {
   "cell_type": "code",
   "execution_count": 53,
   "metadata": {
    "collapsed": false
   },
   "outputs": [],
   "source": [
    "from nytimesarticle import articleAPI\n",
    "api=articleAPI('0db8e23808f84821bed51f39d36d0787')\n",
    "articles=api.search( q = 'Congress', begin_date = 20121231)"
   ]
  },
  {
   "cell_type": "code",
   "execution_count": 56,
   "metadata": {
    "collapsed": false
   },
   "outputs": [
    {
     "data": {
      "text/plain": [
       "3"
      ]
     },
     "execution_count": 56,
     "metadata": {},
     "output_type": "execute_result"
    }
   ],
   "source": [
    "len(articles)"
   ]
  },
  {
   "cell_type": "code",
   "execution_count": 51,
   "metadata": {
    "collapsed": false
   },
   "outputs": [
    {
     "name": "stdout",
     "output_type": "stream",
     "text": [
      "{u'status': u'OK', u'response': {u'docs': [{u'type_of_material': u'Series', u'blog': [], u'news_desk': u'Business', u'lead_paragraph': u'There\\u2019s a relaxation in the approach to occupational safety and business is getting a bigger voice, while hard-won victories for safety advocates are being reversed.', u'headline': {u'main': u'Under Trump, Worker Protections Are Viewed With New Skepticism', u'kicker': u'Trump Rules', u'print_headline': u'Industry Given  A Louder Voice  On Job Safety', u'content_kicker': u'Trump Rules'}, u'abstract': None, u'print_page': 1, u'word_count': 1695, u'_id': u'593580717c459f24986e37f1', u'snippet': u'There\\u2019s a relaxation in the approach to occupational safety and business is getting a bigger voice, while hard-won victories for safety advocates are being reversed....', u'source': u'The New York Times', u'slideshow_credits': None, u'web_url': u'https://www.nytimes.com/2017/06/05/business/under-trump-worker-protections-are-viewed-with-new-skepticism.html', u'multimedia': [{u'subtype': u'thumbnail', u'url': u'images/2017/06/06/business/00TRUMPSAFETY5/00TRUMPSAFETY5-thumbStandard.jpg', u'rank': 0, u'height': 75, u'width': 75, u'legacy': {u'thumbnailheight': 75, u'thumbnail': u'images/2017/06/06/business/00TRUMPSAFETY5/00TRUMPSAFETY5-thumbStandard.jpg', u'thumbnailwidth': 75}, u'type': u'image'}, {u'subtype': u'xlarge', u'url': u'images/2017/06/06/business/00TRUMPSAFETY5/00TRUMPSAFETY5-articleLarge.jpg', u'rank': 0, u'height': 915, u'width': 600, u'legacy': {u'xlargewidth': 600, u'xlarge': u'images/2017/06/06/business/00TRUMPSAFETY5/00TRUMPSAFETY5-articleLarge.jpg', u'xlargeheight': 915}, u'type': u'image'}, {u'subtype': u'wide', u'url': u'images/2017/06/06/business/00TRUMPSAFETY5/00TRUMPSAFETY5-thumbWide.jpg', u'rank': 0, u'height': 126, u'width': 190, u'legacy': {u'wide': u'images/2017/06/06/business/00TRUMPSAFETY5/00TRUMPSAFETY5-thumbWide.jpg', u'widewidth': 190, u'wideheight': 126}, u'type': u'image'}], u'subsection_name': None, u'keywords': [{u'isMajor': u'N', u'value': u'Workplace Hazards and Violations', u'name': u'subject', u'rank': 1}, {u'isMajor': u'N', u'value': u'Occupational Safety and Health Administration', u'name': u'organizations', u'rank': 2}, {u'isMajor': u'N', u'value': u'Silica', u'name': u'subject', u'rank': 3}, {u'isMajor': u'N', u'value': u'Hazardous and Toxic Substances', u'name': u'subject', u'rank': 4}, {u'isMajor': u'N', u'value': u'Lobbying and Lobbyists', u'name': u'subject', u'rank': 5}, {u'isMajor': u'N', u'value': u'Suits and Litigation (Civil)', u'name': u'subject', u'rank': 6}, {u'isMajor': u'N', u'value': u'Associated Builders and Contractors', u'name': u'organizations', u'rank': 7}, {u'isMajor': u'N', u'value': u'Chemical Safety and Hazard Investigation Board', u'name': u'organizations', u'rank': 8}, {u'isMajor': u'N', u'value': u'Materion Corporation', u'name': u'organizations', u'rank': 9}, {u'isMajor': u'N', u'value': u'Newport News Shipbuilding', u'name': u'organizations', u'rank': 10}, {u'isMajor': u'N', u'value': u'United Steelworkers of America', u'name': u'organizations', u'rank': 11}, {u'isMajor': u'N', u'value': u'Trump, Donald J', u'name': u'persons', u'rank': 12}, {u'isMajor': u'N', u'value': u'Obama, Barack', u'name': u'persons', u'rank': 13}, {u'isMajor': u'N', u'value': u'United States Politics and Government', u'name': u'subject', u'rank': 14}], u'byline': {u'person': [{u'organization': u'', u'role': u'reported', u'firstname': u'Barry', u'rank': 1, u'lastname': u'MEIER'}, {u'organization': u'', u'role': u'reported', u'firstname': u'Danielle', u'rank': 2, u'lastname': u'IVORY'}], u'original': u'By BARRY MEIER and DANIELLE IVORY'}, u'document_type': u'article', u'pub_date': u'2017-06-05T16:01:47+0000', u'section_name': u'Business Day'}, {u'type_of_material': u'Video', u'blog': [], u'news_desk': u'U.S. / Politics', u'lead_paragraph': u'Former President Obama held his first public appearance since leaving office, leading a discussion with half a dozen young people at the University of Chicago, in front of an audience of college students.', u'headline': {u'main': u\"Highlights of Obama's First Post-Presidency Event\"}, u'abstract': None, u'print_page': 0, u'word_count': 33, u'_id': u'58fe4ac97c459f24986dbce5', u'snippet': u'Former President Obama held his first public appearance since leaving office, leading a discussion with half a dozen young people at the University of Chicago, in front of an audience of college students....', u'source': u'The New York Times', u'slideshow_credits': None, u'web_url': u'https://www.nytimes.com/video/us/politics/100000005060852/highlights-of-obamas-first-post-presidency-event.html', u'multimedia': [{u'subtype': u'thumbnail', u'url': u'images/2017/04/25/us/25obama-1/25obama-1-thumbStandard.jpg', u'rank': 0, u'height': 75, u'width': 75, u'legacy': {u'thumbnailheight': 75, u'thumbnail': u'images/2017/04/25/us/25obama-1/25obama-1-thumbStandard.jpg', u'thumbnailwidth': 75}, u'type': u'image'}, {u'subtype': u'xlarge', u'url': u'images/2017/04/25/us/25obama-1/25obama-1-articleLarge.jpg', u'rank': 0, u'height': 397, u'width': 600, u'legacy': {u'xlargewidth': 600, u'xlarge': u'images/2017/04/25/us/25obama-1/25obama-1-articleLarge.jpg', u'xlargeheight': 397}, u'type': u'image'}, {u'subtype': u'wide', u'url': u'images/2017/04/25/us/25obama-1/25obama-1-thumbWide.jpg', u'rank': 0, u'height': 126, u'width': 190, u'legacy': {u'wide': u'images/2017/04/25/us/25obama-1/25obama-1-thumbWide.jpg', u'widewidth': 190, u'wideheight': 126}, u'type': u'image'}], u'subsection_name': u'Politics', u'keywords': [{u'isMajor': u'N', u'value': u'Colleges and Universities', u'name': u'subject', u'rank': 1}, {u'isMajor': u'N', u'value': u'United States Politics and Government', u'name': u'subject', u'rank': 2}, {u'isMajor': u'N', u'value': u'University of Chicago', u'name': u'organizations', u'rank': 3}, {u'isMajor': u'N', u'value': u'Obama, Barack', u'name': u'persons', u'rank': 4}], u'byline': {u'person': [{u'organization': u'', u'role': u'reported', u'rank': 1}], u'original': u'By UNIVERSITY of CHICAGO'}, u'document_type': u'multimedia', u'pub_date': u'2017-04-24T18:57:59+0000', u'section_name': u'U.S.'}, {u'type_of_material': u'Blog', u'blog': [], u'news_desk': u'Politics', u'lead_paragraph': None, u'headline': {u'main': u'First Draft Focus: &#8216;Never Too Late to Say Thank You&#8217;', u'kicker': u'First Draft'}, u'abstract': u'Ina Bass and Elsie Shemin-Roth accepted the Medal of Honor on Tuesday on behalf of their father, Sgt. William Shemin, who fought on the French front lines in World War I.', u'print_page': None, u'word_count': u'0', u'_id': u'556e17dc38f0d83db8478863', u'snippet': u'Ina Bass and Elsie Shemin-Roth accepted the Medal of Honor on Tuesday on behalf of their father, Sgt. William Shemin, who fought on the French front lines in World War I....', u'source': u'The New York Times', u'slideshow_credits': None, u'web_url': u'https://www.nytimes.com/politics/first-draft/2015/06/02/first-draft-focus-never-too-late-to-say-thank-you/', u'multimedia': [{u'subtype': u'wide', u'url': u'images/2015/06/02/us/politics/02firstdraft-obama-medal/02firstdraft-obama-medal-thumbWide.jpg', u'height': 126, u'width': 190, u'legacy': {u'wide': u'images/2015/06/02/us/politics/02firstdraft-obama-medal/02firstdraft-obama-medal-thumbWide.jpg', u'wideheight': u'126', u'widewidth': u'190'}, u'type': u'image'}, {u'subtype': u'xlarge', u'url': u'images/2015/06/02/us/politics/02firstdraft-obama-medal/02firstdraft-obama-medal-articleLarge.jpg', u'height': 400, u'width': 600, u'legacy': {u'xlargewidth': u'600', u'xlarge': u'images/2015/06/02/us/politics/02firstdraft-obama-medal/02firstdraft-obama-medal-articleLarge.jpg', u'xlargeheight': u'400'}, u'type': u'image'}, {u'subtype': u'thumbnail', u'url': u'images/2015/06/02/us/politics/02firstdraft-obama-medal/02firstdraft-obama-medal-thumbStandard.jpg', u'height': 75, u'width': 75, u'legacy': {u'thumbnailheight': u'75', u'thumbnail': u'images/2015/06/02/us/politics/02firstdraft-obama-medal/02firstdraft-obama-medal-thumbStandard.jpg', u'thumbnailwidth': u'75'}, u'type': u'image'}], u'subsection_name': u'false', u'keywords': [{u'value': u'Medal of Honor (US)', u'name': u'subject', u'rank': u'1'}, {u'value': u'Obama, Barack', u'name': u'subject', u'rank': u'2'}], u'byline': {u'person': [{u'organization': u'', u'role': u'reported', u'rank': 1, u'firstname': u'Doug', u'lastname': u'MILLS'}], u'original': u'By DOUG MILLS'}, u'document_type': u'blogpost', u'pub_date': u'2015-06-02T16:51:11Z', u'section_name': u'false'}, {u'type_of_material': u'News', u'blog': [], u'news_desk': u'Business', u'lead_paragraph': u'As the president moves to fill vacant seats on the National Labor Relations Board, swinging it to Republican control, many rules favorable to unions may fall.', u'headline': {u'main': u'Trump Takes Steps to Undo Obama Legacy on Labor', u'print_headline': u'Trump Moves to Dismantle Obama-Era Labor Policies'}, u'abstract': None, u'print_page': u'13', u'word_count': 1078, u'_id': u'59495ae87c459f257c1aafdf', u'snippet': u'As the president moves to fill vacant seats on the National Labor Relations Board, swinging it to Republican control, many rules favorable to unions may fall....', u'source': u'The New York Times', u'slideshow_credits': None, u'web_url': u'https://www.nytimes.com/2017/06/20/business/nlrb-trump-labor.html', u'multimedia': [], u'subsection_name': None, u'keywords': [{u'isMajor': u'N', u'value': u'National Labor Relations Board', u'name': u'organizations', u'rank': 1}, {u'isMajor': u'N', u'value': u'Trump, Donald J', u'name': u'persons', u'rank': 2}, {u'isMajor': u'N', u'value': u'Organized Labor', u'name': u'subject', u'rank': 3}, {u'isMajor': u'N', u'value': u'Kaplan, Marvin E', u'name': u'persons', u'rank': 4}, {u'isMajor': u'N', u'value': u'United States Politics and Government', u'name': u'subject', u'rank': 5}, {u'isMajor': u'N', u'value': u'Appointments and Executive Changes', u'name': u'subject', u'rank': 6}, {u'isMajor': u'N', u'value': u'Law and Legislation', u'name': u'subject', u'rank': 7}, {u'isMajor': u'N', u'value': u'Regulation and Deregulation of Industry', u'name': u'subject', u'rank': 8}], u'byline': {u'person': [{u'organization': u'', u'role': u'reported', u'firstname': u'Noam', u'rank': 1, u'lastname': u'SCHEIBER'}], u'original': u'By NOAM SCHEIBER'}, u'document_type': u'article', u'pub_date': u'2017-06-20T17:26:57+0000', u'section_name': u'Business Day'}, {u'type_of_material': u'News', u'blog': [], u'news_desk': u'Business', u'lead_paragraph': u'The department, led by Education Secretary Betsy DeVos, will carry out an Obama-era plan to streamline the federal system for administering $1.3 trillion in student loans.', u'headline': {u'main': u'Education Dept. Keeps Obama Plan to Streamline Loan System', u'print_headline': u'Education Dept. Keeps Obama Plan on Loans'}, u'abstract': None, u'print_page': 2, u'word_count': 663, u'_id': u'591f89617c459f24986e0aaf', u'snippet': u'The department, led by Education Secretary Betsy DeVos, will carry out an Obama-era plan to streamline the federal system for administering $1.3 trillion in student loans....', u'source': u'The New York Times', u'slideshow_credits': None, u'web_url': u'https://www.nytimes.com/2017/05/19/business/dealbook/education-student-loan-system.html', u'multimedia': [{u'subtype': u'thumbnail', u'url': u'images/2017/05/20/business/20DB-STUDENTLOAN/20DB-STUDENTLOAN-thumbStandard.jpg', u'rank': 0, u'height': 75, u'width': 75, u'legacy': {u'thumbnailheight': 75, u'thumbnail': u'images/2017/05/20/business/20DB-STUDENTLOAN/20DB-STUDENTLOAN-thumbStandard.jpg', u'thumbnailwidth': 75}, u'type': u'image'}, {u'subtype': u'xlarge', u'url': u'images/2017/05/20/business/20DB-STUDENTLOAN/20DB-STUDENTLOAN-articleLarge.jpg', u'rank': 0, u'height': 401, u'width': 600, u'legacy': {u'xlargewidth': 600, u'xlarge': u'images/2017/05/20/business/20DB-STUDENTLOAN/20DB-STUDENTLOAN-articleLarge.jpg', u'xlargeheight': 401}, u'type': u'image'}, {u'subtype': u'wide', u'url': u'images/2017/05/20/business/20DB-STUDENTLOAN/20DB-STUDENTLOAN-thumbWide.jpg', u'rank': 0, u'height': 126, u'width': 190, u'legacy': {u'wide': u'images/2017/05/20/business/20DB-STUDENTLOAN/20DB-STUDENTLOAN-thumbWide.jpg', u'widewidth': 190, u'wideheight': 126}, u'type': u'image'}], u'subsection_name': u'DealBook', u'keywords': [{u'isMajor': u'N', u'value': u'Navient Corporation', u'name': u'organizations', u'rank': 1}, {u'isMajor': u'N', u'value': u'Pennsylvania Higher Education Assistance Agency', u'name': u'organizations', u'rank': 2}, {u'isMajor': u'N', u'value': u'Nelnet Inc', u'name': u'organizations', u'rank': 3}, {u'isMajor': u'N', u'value': u'Student Loans', u'name': u'subject', u'rank': 4}], u'byline': {u'person': [{u'organization': u'', u'role': u'reported', u'firstname': u'Stacy', u'rank': 1, u'lastname': u'COWLEY'}], u'original': u'By STACY COWLEY'}, u'document_type': u'article', u'pub_date': u'2017-05-20T00:10:05+0000', u'section_name': u'Business Day'}, {u'type_of_material': u'News', u'blog': [], u'news_desk': u'Business', u'lead_paragraph': u'New protections requiring financial advisers to put customers\\u2019 interests first will take effect in June, even as regulators continue to review them.', u'headline': {u'main': u'Obama\\u2019s Fiduciary Rule, After a Delay, Will Go Into Effect', u'print_headline': u'After Delay, Labor Dept. Plans to Back Fiduciary Act'}, u'abstract': None, u'print_page': 2, u'word_count': 738, u'_id': u'5924b35c7c459f24986e146b', u'snippet': u'New protections requiring financial advisers to put customers\\u2019 interests first will take effect in June, even as regulators continue to review them....', u'source': u'The New York Times', u'slideshow_credits': None, u'web_url': u'https://www.nytimes.com/2017/05/23/business/obamas-fiduciary-rule-after-a-delay-will-go-into-effect.html', u'multimedia': [], u'subsection_name': None, u'keywords': [{u'isMajor': u'N', u'value': u'Consumer Protection', u'name': u'subject', u'rank': 1}, {u'isMajor': u'N', u'value': u'Regulation and Deregulation of Industry', u'name': u'subject', u'rank': 2}, {u'isMajor': u'N', u'value': u'Pensions and Retirement Plans', u'name': u'subject', u'rank': 3}, {u'isMajor': u'N', u'value': u'Labor Department (US)', u'name': u'organizations', u'rank': 4}, {u'isMajor': u'N', u'value': u'Obama, Barack', u'name': u'persons', u'rank': 5}, {u'isMajor': u'N', u'value': u'Trump, Donald J', u'name': u'persons', u'rank': 6}, {u'isMajor': u'N', u'value': u'United States Politics and Government', u'name': u'subject', u'rank': 7}, {u'isMajor': u'N', u'value': u'Acosta, Alexander (1969- )', u'name': u'persons', u'rank': 8}], u'byline': {u'person': [{u'firstname': u'Tara', u'middlename': u'Siegel', u'lastname': u'BERNARD', u'rank': 1, u'role': u'reported', u'organization': u''}], u'original': u'By TARA SIEGEL BERNARD'}, u'document_type': u'article', u'pub_date': u'2017-05-23T22:10:31+0000', u'section_name': u'Business Day'}, {u'type_of_material': u'News', u'blog': [], u'news_desk': u'Business', u'lead_paragraph': u'Mr. Eggleston, who advised President Barack Obama on legal and constitutional issues involving foreign policy, ethics and judicial appointments, is rejoining the law firm as a partner in Washington.', u'headline': {u'main': u'Neil Eggleston, Ex-White House Counsel to Obama, Returns to Kirkland & Ellis', u'print_headline': u'Neil Eggleston, Ex-White House Counsel to Obama, Returns to Kirkland & Ellis'}, u'abstract': None, u'print_page': 0, u'word_count': 475, u'_id': u'58fe04ed7c459f24986dbc12', u'snippet': u'Mr. Eggleston, who advised President Barack Obama on legal and constitutional issues involving foreign policy, ethics and judicial appointments, is rejoining the law firm as a partner in Washington....', u'source': u'The New York Times', u'slideshow_credits': None, u'web_url': u'https://www.nytimes.com/2017/04/24/business/dealbook/neil-eggleston-ex-white-house-counsel-to-obama-returns-to-kirkland-ellis.html', u'multimedia': [{u'subtype': u'thumbnail', u'url': u'images/2017/04/25/business/25DB-DOOR/25DB-DOOR-thumbStandard.jpg', u'rank': 0, u'height': 75, u'width': 75, u'legacy': {u'thumbnailheight': 75, u'thumbnail': u'images/2017/04/25/business/25DB-DOOR/25DB-DOOR-thumbStandard.jpg', u'thumbnailwidth': 75}, u'type': u'image'}, {u'subtype': u'xlarge', u'url': u'images/2017/04/25/business/25DB-DOOR/25DB-DOOR-articleLarge.jpg', u'rank': 0, u'height': 377, u'width': 600, u'legacy': {u'xlargewidth': 600, u'xlarge': u'images/2017/04/25/business/25DB-DOOR/25DB-DOOR-articleLarge.jpg', u'xlargeheight': 377}, u'type': u'image'}, {u'subtype': u'wide', u'url': u'images/2017/04/25/business/25DB-DOOR/25DB-DOOR-thumbWide.jpg', u'rank': 0, u'height': 126, u'width': 190, u'legacy': {u'wide': u'images/2017/04/25/business/25DB-DOOR/25DB-DOOR-thumbWide.jpg', u'widewidth': 190, u'wideheight': 126}, u'type': u'image'}], u'subsection_name': u'DealBook', u'keywords': [{u'isMajor': u'N', u'value': u'Appointments and Executive Changes', u'name': u'subject', u'rank': 1}, {u'isMajor': u'N', u'value': u'Law and Legislation', u'name': u'subject', u'rank': 2}, {u'isMajor': u'N', u'value': u'Legal Profession', u'name': u'subject', u'rank': 3}, {u'isMajor': u'N', u'value': u'Kirkland & Ellis', u'name': u'organizations', u'rank': 4}, {u'isMajor': u'N', u'value': u'United States Politics and Government', u'name': u'subject', u'rank': 5}, {u'isMajor': u'N', u'value': u'Eggleston, W Neil', u'name': u'persons', u'rank': 6}, {u'isMajor': u'N', u'value': u'Obama, Barack', u'name': u'persons', u'rank': 7}], u'byline': {u'person': [{u'organization': u'', u'role': u'reported', u'firstname': u'Elizabeth', u'rank': 1, u'lastname': u'OLSON'}], u'original': u'By ELIZABETH OLSON'}, u'document_type': u'article', u'pub_date': u'2017-04-24T14:00:02+0000', u'section_name': u'Business Day'}, {u'type_of_material': u'News', u'blog': [], u'news_desk': u'Business', u'lead_paragraph': u'Former officials often don\\u2019t have to look far for work: Demand for departing government lawyers among big corporate law firms shows no signs of softening.', u'headline': {u'main': u'Ex-Obama Officials Find There\\u2019s No Place Like Their Old Law Firms', u'print_headline': u'Ex-Obama Officials Find There\\u2019s No Place Like Their Old Law Firms'}, u'abstract': None, u'print_page': 5, u'word_count': 824, u'_id': u'59300ff17c459f24986e2d1d', u'snippet': u'Former officials often don\\u2019t have to look far for work: Demand for departing government lawyers among big corporate law firms shows no signs of softening....', u'source': u'The New York Times', u'slideshow_credits': None, u'web_url': u'https://www.nytimes.com/2017/06/01/business/dealbook/ex-obama-officials-find-theres-no-place-like-their-old-law-firms.html', u'multimedia': [{u'subtype': u'thumbnail', u'url': u'images/2017/06/02/business/02db-door1/02db-door1-thumbStandard.jpg', u'rank': 0, u'height': 75, u'width': 75, u'legacy': {u'thumbnailheight': 75, u'thumbnail': u'images/2017/06/02/business/02db-door1/02db-door1-thumbStandard.jpg', u'thumbnailwidth': 75}, u'type': u'image'}, {u'subtype': u'xlarge', u'url': u'images/2017/06/02/business/02db-door1/02db-door1-articleLarge.jpg', u'rank': 0, u'height': 400, u'width': 600, u'legacy': {u'xlargewidth': 600, u'xlarge': u'images/2017/06/02/business/02db-door1/02db-door1-articleLarge.jpg', u'xlargeheight': 400}, u'type': u'image'}, {u'subtype': u'wide', u'url': u'images/2017/06/02/business/02db-door1/02db-door1-thumbWide.jpg', u'rank': 0, u'height': 126, u'width': 190, u'legacy': {u'wide': u'images/2017/06/02/business/02db-door1/02db-door1-thumbWide.jpg', u'widewidth': 190, u'wideheight': 126}, u'type': u'image'}], u'subsection_name': u'DealBook', u'keywords': [{u'isMajor': u'N', u'value': u'Goelman, Aitan D', u'name': u'persons', u'rank': 1}, {u'isMajor': u'N', u'value': u'Commodity Futures Trading Commission', u'name': u'organizations', u'rank': 2}, {u'isMajor': u'N', u'value': u'Zuckerman Spaeder', u'name': u'organizations', u'rank': 3}, {u'isMajor': u'N', u'value': u'Legal Profession', u'name': u'subject', u'rank': 4}, {u'isMajor': u'N', u'value': u'Appointments and Executive Changes', u'name': u'subject', u'rank': 5}, {u'isMajor': u'N', u'value': u'Dodd-Frank Wall Street Reform and Consumer Protection Act (2010)', u'name': u'subject', u'rank': 6}, {u'isMajor': u'N', u'value': u'Regulation and Deregulation of Industry', u'name': u'subject', u'rank': 7}], u'byline': {u'person': [{u'organization': u'', u'role': u'reported', u'firstname': u'Elizabeth', u'rank': 1, u'lastname': u'OLSON'}], u'original': u'By ELIZABETH OLSON'}, u'document_type': u'article', u'pub_date': u'2017-06-01T13:00:26+0000', u'section_name': u'Business Day'}, {u'type_of_material': u'Blog', u'blog': [], u'news_desk': u'Politics', u'lead_paragraph': None, u'headline': {u'main': u'First Draft Focus:  Remembering  9/11 at the White House', u'kicker': u'First Draft'}, u'abstract': u'The Obamas marked the 14th anniversary of the terrorist attacks on Sept. 11, 2001 at a White House ceremony on Friday.', u'print_page': None, u'word_count': u'0', u'_id': u'55f2fbb938f0d842c5ff353b', u'snippet': u'The Obamas marked the 14th anniversary of the terrorist attacks on Sept. 11, 2001 at a White House ceremony on Friday....', u'source': u'The New York Times', u'slideshow_credits': None, u'web_url': u'https://www.nytimes.com/politics/first-draft/2015/09/11/first-draft-focus-remembering-911/', u'multimedia': [{u'subtype': u'wide', u'url': u'images/2015/09/11/us/politics/11firstdraft-obamas/11firstdraft-obamas-thumbWide.jpg', u'height': 126, u'width': 190, u'legacy': {u'wide': u'images/2015/09/11/us/politics/11firstdraft-obamas/11firstdraft-obamas-thumbWide.jpg', u'wideheight': u'126', u'widewidth': u'190'}, u'type': u'image'}, {u'subtype': u'xlarge', u'url': u'images/2015/09/11/us/politics/11firstdraft-obamas/11firstdraft-obamas-articleLarge.jpg', u'height': 400, u'width': 600, u'legacy': {u'xlargewidth': u'600', u'xlarge': u'images/2015/09/11/us/politics/11firstdraft-obamas/11firstdraft-obamas-articleLarge.jpg', u'xlargeheight': u'400'}, u'type': u'image'}, {u'subtype': u'thumbnail', u'url': u'images/2015/09/11/us/politics/11firstdraft-obamas/11firstdraft-obamas-thumbStandard.jpg', u'height': 75, u'width': 75, u'legacy': {u'thumbnailheight': u'75', u'thumbnail': u'images/2015/09/11/us/politics/11firstdraft-obamas/11firstdraft-obamas-thumbStandard.jpg', u'thumbnailwidth': u'75'}, u'type': u'image'}], u'subsection_name': u'Politics', u'keywords': [{u'value': u'Obama, Barack', u'name': u'persons', u'rank': u'1'}, {u'value': u'Obama, Michelle', u'name': u'persons', u'rank': u'2'}, {u'value': u'September 11 (2001)', u'name': u'subject', u'rank': u'1'}, {u'value': u'White House Building (Washington, DC)', u'name': u'subject', u'rank': u'2'}], u'byline': {u'person': [{u'organization': u'', u'role': u'reported', u'rank': 1, u'firstname': u'First', u'lastname': u'DRAFT'}], u'original': u'By FIRST DRAFT'}, u'document_type': u'blogpost', u'pub_date': u'2015-09-11T12:03:54Z', u'section_name': u'U.S.'}, {u'type_of_material': u'Video', u'blog': [], u'news_desk': u'U.S. / Politics', u'lead_paragraph': u'Mark Leibovich on prominent and recent cases of political heckling, and the risks that come from engaging hostile interlopers.', u'headline': {u'main': u'The Hazards of Hecklers'}, u'abstract': None, u'print_page': None, u'word_count': u'19', u'_id': u'51b893be7e0d9c0839d275bb', u'snippet': u'Mark Leibovich on prominent and recent cases of political heckling, and the risks that come from engaging hostile interlopers....', u'source': u'The New York Times', u'slideshow_credits': None, u'web_url': u'https://www.nytimes.com/video/us/politics/100000002269371/the-hazards-of-hecklers-.html', u'multimedia': [{u'subtype': u'wide', u'url': u'images/2013/06/07/us/politics/video-leibovich-on-heckling/video-leibovich-on-heckling-thumbWide.jpg', u'height': 126, u'width': 190, u'legacy': {u'wide': u'images/2013/06/07/us/politics/video-leibovich-on-heckling/video-leibovich-on-heckling-thumbWide.jpg', u'wideheight': u'126', u'widewidth': u'190'}, u'type': u'image'}, {u'subtype': u'xlarge', u'url': u'images/2013/06/07/us/politics/video-leibovich-on-heckling/video-leibovich-on-heckling-articleLarge.jpg', u'height': 338, u'width': 600, u'legacy': {u'xlargewidth': u'600', u'xlarge': u'images/2013/06/07/us/politics/video-leibovich-on-heckling/video-leibovich-on-heckling-articleLarge.jpg', u'xlargeheight': u'338'}, u'type': u'image'}, {u'subtype': u'thumbnail', u'url': u'images/2013/06/07/us/politics/video-leibovich-on-heckling/video-leibovich-on-heckling-thumbStandard.jpg', u'height': 75, u'width': 75, u'legacy': {u'thumbnailheight': u'75', u'thumbnail': u'images/2013/06/07/us/politics/video-leibovich-on-heckling/video-leibovich-on-heckling-thumbStandard.jpg', u'thumbnailwidth': u'75'}, u'type': u'image'}], u'subsection_name': u'Politics', u'keywords': [{u'value': u'Obama, Barack', u'is_major': u'N', u'rank': u'1', u'name': u'persons'}, {u'value': u'Obama, Michelle', u'is_major': u'N', u'rank': u'2', u'name': u'persons'}, {u'value': u'Washington', u'is_major': u'N', u'rank': u'3', u'name': u'unknown'}, {u'value': u'Politics and Government', u'is_major': u'N', u'rank': u'4', u'name': u'subject'}], u'byline': {u'person': [{u'organization': u'', u'role': u'reported', u'rank': 1, u'firstname': u'Axel', u'lastname': u'Gerdau'}], u'original': u'Axel Gerdau'}, u'document_type': u'multimedia', u'pub_date': u'2013-06-07T23:02:12Z', u'section_name': u'U.S.'}], u'meta': {u'hits': 3766, u'offset': 0, u'time': 29}}, u'copyright': u'Copyright (c) 2013 The New York Times Company.  All Rights Reserved.'}\n"
     ]
    }
   ],
   "source": [
    "articles = api.search( q = 'Obama', \n",
    "     fq = {'headline':'', 'source':['Reuters','AP', 'The New York Times'], 'news_desk':['Politics','Business']}, \n",
    "     begin_date = 20121231 )\n",
    "\n",
    "print articles\n"
   ]
  },
  {
   "cell_type": "code",
   "execution_count": 54,
   "metadata": {
    "collapsed": false
   },
   "outputs": [
    {
     "data": {
      "text/plain": [
       "3"
      ]
     },
     "execution_count": 54,
     "metadata": {},
     "output_type": "execute_result"
    }
   ],
   "source": [
    "len(articles)"
   ]
  },
  {
   "cell_type": "code",
   "execution_count": 2,
   "metadata": {
    "collapsed": true
   },
   "outputs": [],
   "source": [
    "def parse_articles(articles):\n",
    "    '''\n",
    "    This function takes in a response to the NYT api and parses\n",
    "    the articles into a list of dictionaries\n",
    "    '''\n",
    "    news = []\n",
    "    for i in articles['response']['docs']:\n",
    "        dic = {}\n",
    "        dic['id'] = i['_id']\n",
    "        if i['abstract'] is not None:\n",
    "            dic['abstract'] = i['abstract'].encode(\"utf8\")\n",
    "        dic['headline'] = i['headline']['main'].encode(\"utf8\")\n",
    "        dic['desk'] = i['news_desk']\n",
    "        dic['date'] = i['pub_date'][0:10] # cutting time of day.\n",
    "        dic['section'] = i['section_name']\n",
    "        if i['snippet'] is not None:\n",
    "            dic['snippet'] = i['snippet'].encode(\"utf8\")\n",
    "        dic['source'] = i['source']\n",
    "        dic['type'] = i['type_of_material']\n",
    "        dic['url'] = i['web_url']\n",
    "        dic['word_count'] = i['word_count']\n",
    "        # locations\n",
    "        locations = []\n",
    "        for x in range(0,len(i['keywords'])):\n",
    "            if 'glocations' in i['keywords'][x]['name']:\n",
    "                locations.append(i['keywords'][x]['value'])\n",
    "        dic['locations'] = locations\n",
    "        # subject\n",
    "        subjects = []\n",
    "        for x in range(0,len(i['keywords'])):\n",
    "            if 'subject' in i['keywords'][x]['name']:\n",
    "                subjects.append(i['keywords'][x]['value'])\n",
    "        dic['subjects'] = subjects   \n",
    "        news.append(dic)\n",
    "    return(news) \n",
    "    "
   ]
  },
  {
   "cell_type": "code",
   "execution_count": 70,
   "metadata": {
    "collapsed": false
   },
   "outputs": [],
   "source": [
    "def get_articles(date,query):\n",
    "    #'''\n",
    "    #This function accepts a year in string format (e.g.'1980')\n",
    "    #and a query (e.g.'Amnesty International') and it will \n",
    "    #return a list of parsed articles (in dictionaries)\n",
    "    #for that year.\n",
    "    #'''\n",
    "    all_articles = []\n",
    "    for i in range(1,4): #NYT limits pager to first 100 pages. But rarely will you find over 100 pages of results anyway.\n",
    "        articles = api.search(q = query,\n",
    "               fq = {'source':['Reuters','AP', 'The New York Times']},\n",
    "               begin_date = date + '0101',\n",
    "               end_date = date + '1231',\n",
    "               desk='Politics',\n",
    "               sort='oldest',\n",
    "               page = str(i))\n",
    "        if len(articles)>=2:\n",
    "            articles = parse_articles(articles)\n",
    "            all_articles = all_articles+articles\n",
    "        else: return(all_articles)\n",
    "    return(all_articles)"
   ]
  },
  {
   "cell_type": "code",
   "execution_count": 71,
   "metadata": {
    "collapsed": false
   },
   "outputs": [
    {
     "data": {
      "text/plain": [
       "[{'date': u'2014-06-19',\n",
       "  'desk': u'U.S.',\n",
       "  'headline': 'Gay G.O.P. Candidate Begins Ad Campaign',\n",
       "  'id': u'53a38b9d38f0d82561c762fe',\n",
       "  'locations': [u'New Hampshire'],\n",
       "  'section': u'U.S.',\n",
       "  'snippet': 'Dan Innis, a gay Republican from New Hampshire, announced his candidacy for the House of Representatives in an advertisement....',\n",
       "  'source': u'The New York Times',\n",
       "  'subjects': [u'Political Advertising', u'Homosexuality and Bisexuality'],\n",
       "  'type': u'Video',\n",
       "  'url': u'https://www.nytimes.com/video/us/100000002951112/gay-gop-candidate-dan-innis-begins-ad-campaign.html',\n",
       "  'word_count': u'19'},\n",
       " {'date': u'2017-05-08',\n",
       "  'desk': u'OpEd',\n",
       "  'headline': 'A Disaster Wrapped in Victory',\n",
       "  'id': u'59101c7f7c459f24986de421',\n",
       "  'locations': [],\n",
       "  'section': u'Opinion',\n",
       "  'snippet': 'With the health care vote, the House G.O.P. has made the rest of its agenda harder to achieve....',\n",
       "  'source': u'The New York Times',\n",
       "  'subjects': [u'Health Insurance and Managed Care',\n",
       "   u'United States Politics and Government',\n",
       "   u'Patient Protection and Affordable Care Act (2010)'],\n",
       "  'type': u'Op-Ed',\n",
       "  'url': u'https://www.nytimes.com/2017/05/08/opinion/gop-health-care-disaster-wrapped-in-victory.html',\n",
       "  'word_count': 797},\n",
       " {'date': u'2017-07-04',\n",
       "  'desk': u'OpEd',\n",
       "  'headline': 'Putting Citizenship Back in Congress',\n",
       "  'id': u'595b42087c459f257c1ad679',\n",
       "  'locations': [u'Kansas', u'United States'],\n",
       "  'section': u'Opinion',\n",
       "  'snippet': 'Advocates for reforms or better government can be trained to approach their lawmakers and make a difference....',\n",
       "  'source': u'The New York Times',\n",
       "  'subjects': [u'United States Politics and Government',\n",
       "   u'Volunteers and Community Service',\n",
       "   u'Law and Legislation'],\n",
       "  'type': u'Op-Ed',\n",
       "  'url': u'https://www.nytimes.com/2017/07/04/opinion/putting-citizenship-back-in-congress.html',\n",
       "  'word_count': 1765},\n",
       " {'abstract': 'New Faces of Congress interview with Rep Ryan Zinke, freshman Republican from Montana (Series: New Faces of Congress).',\n",
       "  'date': u'2015-03-24',\n",
       "  'desk': u'National',\n",
       "  'headline': 'Ryan Zinke of Montana Brings Lessons From Navy SEALs to Washington',\n",
       "  'id': u'5510254938f0d82e80e0adc1',\n",
       "  'locations': [u'Montana', u'United States'],\n",
       "  'section': u'U.S.',\n",
       "  'snippet': 'Before his political career, he served with the unit until 2008, including as a commander at SEAL Team 6, the unit known for killing Osama bin Laden....',\n",
       "  'source': u'The New York Times',\n",
       "  'subjects': [u'Series'],\n",
       "  'type': u'News',\n",
       "  'url': u'https://www.nytimes.com/2015/03/24/us/politics/ryan-zinke-of-montana-brings-lessons-from-navy-seals-to-washington.html',\n",
       "  'word_count': u'867'},\n",
       " {'abstract': 'New Faces of Congress interview with Rep Ruben Gallego, freshman Democrat from Arizona (Series: New Faces of Congress).',\n",
       "  'date': u'2015-03-17',\n",
       "  'desk': u'National',\n",
       "  'headline': 'For Ruben Gallego, a Ride on Air Force One and a Presidential Aside',\n",
       "  'id': u'5506fcce38f0d85e90e0032b',\n",
       "  'locations': [u'Arizona', u'United States'],\n",
       "  'section': u'U.S.',\n",
       "  'snippet': 'Mr. Gallego, an Arizona Democrat, talked about life at Harvard as the first in his family to go to college, his military service in Iraq and how he met his wife at a fraternity date auction....',\n",
       "  'source': u'The New York Times',\n",
       "  'subjects': [u'Series',\n",
       "   u'United States Politics and Government',\n",
       "   u'Elections, House of Representatives'],\n",
       "  'type': u'News',\n",
       "  'url': u'https://www.nytimes.com/2015/03/17/us/politics/for-ruben-gallego-a-ride-on-air-force-one-and-a-presidential-aside.html',\n",
       "  'word_count': u'937'},\n",
       " {'abstract': 'New Faces of Congress interview with Rep Martha McSally, freshman Republican from Arizona (Series: New Faces of Congress).',\n",
       "  'date': u'2015-03-31',\n",
       "  'desk': u'National',\n",
       "  'headline': 'Pioneering Combat Pilot Persists in Rise From Arizona',\n",
       "  'id': u'551910a938f0d8713c6c6ac4',\n",
       "  'locations': [u'Arizona', u'United States'],\n",
       "  'section': u'U.S.',\n",
       "  'snippet': 'After losing in a tight race in 2012, a rematch gave Martha McSally, a Republican, the congressional seat in Arizona once held by Gabrielle Giffords....',\n",
       "  'source': u'The New York Times',\n",
       "  'subjects': [u'Series'],\n",
       "  'type': u'News',\n",
       "  'url': u'https://www.nytimes.com/2015/03/31/us/politics/second-times-a-charm-for-martha-mcsally-in-arizona.html',\n",
       "  'word_count': u'949'},\n",
       " {'abstract': 'New Faces of Congress interview with Rep Mimi Walters, freshman Republican from California; she is on Republican House leadership team and is only Republican woman from her state in House (Series: New Faces of Congress).',\n",
       "  'date': u'2015-03-03',\n",
       "  'desk': u'National',\n",
       "  'headline': 'A Singular Presence Among the Leadership',\n",
       "  'id': u'54f517d338f0d8180c54ddb2',\n",
       "  'locations': [u'California', u'United States'],\n",
       "  'section': u'U.S.',\n",
       "  'snippet': 'Representative Mimi Walters, the lone freshman on the party&#8217;s leadership team, is also the only Republican woman from California in the House....',\n",
       "  'source': u'The New York Times',\n",
       "  'subjects': [u'Series'],\n",
       "  'type': u'News',\n",
       "  'url': u'https://www.nytimes.com/2015/03/03/us/a-singular-presence-among-the-gop-leadership.html',\n",
       "  'word_count': u'958'},\n",
       " {'abstract': 'New Faces of Congress interview with Rep Alma Adams, freshman Democrat from North Carolina (Series: New Faces of Congress).',\n",
       "  'date': u'2015-02-24',\n",
       "  'desk': u'National',\n",
       "  'headline': 'Lawmaking Is Art Professor&#8217;s Unfinished Work ',\n",
       "  'id': u'54eb2c0c38f0d856c47f2d54',\n",
       "  'locations': [u'North Carolina', u'United States'],\n",
       "  'section': u'U.S.',\n",
       "  'snippet': 'After caring for a sister, teaching for 40 years and serving as a legislator, Representative Alma Adams, a Democrat from North Carolina, is not ready to stop....',\n",
       "  'source': u'The New York Times',\n",
       "  'subjects': [u'Series'],\n",
       "  'type': u'News',\n",
       "  'url': u'https://www.nytimes.com/2015/02/24/us/politics/alma-adams-north-carolina-democrat.html',\n",
       "  'word_count': u'970'},\n",
       " {'abstract': 'New Faces of Congress interview with Rep Seth Moulton of Massachusetts, who talks about serving in Iraq, a war he came to oppose (Series: New Faces of Congress).',\n",
       "  'date': u'2015-02-09',\n",
       "  'desk': u'National',\n",
       "  'headline': 'Disillusioned in Iraq, but Prodded to Serve Again',\n",
       "  'id': u'54d82aca38f0d84b1c192299',\n",
       "  'locations': [u'United States'],\n",
       "  'section': u'U.S.',\n",
       "  'snippet': 'Seth Moulton joined the Marines a few months before Sept. 11, 2001, but later grew to oppose American involvement in Iraq. Now the Democrat represents Massachusetts in Congress....',\n",
       "  'source': u'The New York Times',\n",
       "  'subjects': [u'Series', u'Veterans', u'Midterm Elections (2014)'],\n",
       "  'type': u'News',\n",
       "  'url': u'https://www.nytimes.com/2015/02/09/us/politics/disillusioned-in-iraq-but-prodded-to-serve-again.html',\n",
       "  'word_count': u'907'},\n",
       " {'date': u'2014-09-05',\n",
       "  'desk': u'Movies',\n",
       "  'headline': 'Movie Review: \\xe2\\x80\\x98The Congress\\xe2\\x80\\x99',\n",
       "  'id': u'540a235b38f0d84fb8833414',\n",
       "  'locations': [],\n",
       "  'section': u'Movies',\n",
       "  'snippet': 'The Times critic Manohla Dargis reviews \\xe2\\x80\\x9cThe Congress.\\xe2\\x80\\x9d...',\n",
       "  'source': u'The New York Times',\n",
       "  'subjects': [],\n",
       "  'type': u'Video',\n",
       "  'url': u'https://www.nytimes.com/video/movies/100000003094540/movie-review-the-congress.html',\n",
       "  'word_count': u'8'}]"
      ]
     },
     "execution_count": 71,
     "metadata": {},
     "output_type": "execute_result"
    }
   ],
   "source": [
    "parse_articles(articles)"
   ]
  },
  {
   "cell_type": "code",
   "execution_count": 72,
   "metadata": {
    "collapsed": false
   },
   "outputs": [],
   "source": [
    "aa=get_articles('2016', 'Obama')"
   ]
  },
  {
   "cell_type": "code",
   "execution_count": 74,
   "metadata": {
    "collapsed": false
   },
   "outputs": [
    {
     "data": {
      "text/plain": [
       "10"
      ]
     },
     "execution_count": 74,
     "metadata": {},
     "output_type": "execute_result"
    }
   ],
   "source": [
    "len(aa)"
   ]
  },
  {
   "cell_type": "code",
   "execution_count": 14,
   "metadata": {
    "collapsed": false
   },
   "outputs": [
    {
     "name": "stderr",
     "output_type": "stream",
     "text": [
      "usage: __main__.py [-h] -j JSON -c CSV -k KEY\n",
      "__main__.py: error: argument -j/--json is required\n"
     ]
    },
    {
     "ename": "SystemExit",
     "evalue": "2",
     "output_type": "error",
     "traceback": [
      "An exception has occurred, use %tb to see the full traceback.\n",
      "\u001b[0;31mSystemExit\u001b[0m\u001b[0;31m:\u001b[0m 2\n"
     ]
    },
    {
     "name": "stderr",
     "output_type": "stream",
     "text": [
      "C:\\Users\\ewa\\Anaconda2\\lib\\site-packages\\IPython\\core\\interactiveshell.py:2889: UserWarning: To exit: use 'exit', 'quit', or Ctrl-D.\n",
      "  warn(\"To exit: use 'exit', 'quit', or Ctrl-D.\", stacklevel=1)\n"
     ]
    }
   ],
   "source": [
    "import urllib2\n",
    "import json\n",
    "import datetime\n",
    "import time\n",
    "import sys\n",
    "import argparse\n",
    "import logging\n",
    "from urllib2 import HTTPError\n",
    " \n",
    "# helper function to iterate through dates\n",
    "def daterange( start_date, end_date ):\n",
    "    if start_date <= end_date:\n",
    "        for n in range( ( end_date - start_date ).days + 1 ):\n",
    "            yield start_date + datetime.timedelta( n )\n",
    "    else:\n",
    "        for n in range( ( start_date - end_date ).days + 1 ):\n",
    "            yield start_date - datetime.timedelta( n )\n",
    " \n",
    "# helper function to get json into a form I can work with       \n",
    "def convert(input):\n",
    "    if isinstance(input, dict):\n",
    "        return {convert(key): convert(value) for key, value in input.iteritems()}\n",
    "    elif isinstance(input, list):\n",
    "        return [convert(element) for element in input]\n",
    "    elif isinstance(input, unicode):\n",
    "        return input.encode('utf-8')\n",
    "    else:\n",
    "        return input\n",
    " \n",
    "# helpful function to figure out what to name individual JSON files        \n",
    "def getJsonFileName(date, page, json_file_path):\n",
    "    json_file_name = \".\".join([date,str(page),'json'])\n",
    "    json_file_name = \"\".join([json_file_path,json_file_name])\n",
    "    return json_file_name\n",
    " \n",
    "# helpful function for processing keywords, mostly    \n",
    "def getMultiples(items, key):\n",
    "    values_list = \"\"\n",
    "    if len(items) > 0:\n",
    "        num_keys = 0\n",
    "        for item in items:\n",
    "            if num_keys == 0:\n",
    "                values_list = item[key]                \n",
    "            else:\n",
    "                values_list =  \"; \".join([values_list,item[key]])\n",
    "            num_keys += 1\n",
    "    return values_list\n",
    " \n",
    "# get the articles from the NYTimes Article API    \n",
    "def getArticles(date, api_key, json_file_path):\n",
    "    # LOOP THROUGH THE 101 PAGES NYTIMES ALLOWS FOR THAT DATE\n",
    "    for page in range(101):\n",
    "        try:\n",
    "            request_string = \"http://api.nytimes.com/svc/search/v2/articlesearch.json?begin_date=\" + date + \"&end_date=\" + date + \"&page=\" + str(page) + \"&api-key=\" + api_key\n",
    "            response = urllib2.urlopen(request_string)\n",
    "            content = response.read()\n",
    "            if content:\n",
    "                articles = convert(json.loads(content))\n",
    "                # if there are articles here\n",
    "                if len(articles[\"response\"][\"docs\"]) >= 1:\n",
    "                    json_file_name = getJsonFileName(date, page, json_file_path)\n",
    "                    json_file = open(json_file_name, 'w')\n",
    "                    json_file.write(content)\n",
    "                    json_file.close()\n",
    "                # if no more articles, go to next date\n",
    "                else:\n",
    "                    return\n",
    "            # else:\n",
    "            #     break\n",
    "            time.sleep(3)\n",
    "        except HTTPError as e:\n",
    "            logging.error(\"HTTPError on page %s on %s (err no. %s: %s) Here's the URL of the call: %s\", page, date, e.code, e.reason, request_string)\n",
    "        except: \n",
    "            logging.error(\"Error on %s page %s: %s\", date, file_number, sys.exc_info()[0])\n",
    "            continue\n",
    " \n",
    "# parse the JSON files you stored into a tab-delimited file\n",
    "def parseArticles(date, csv_file_name, json_file_path):\n",
    "    for file_number in range(101):\n",
    "        # get the articles and put them into a dictionary\n",
    "        try:\n",
    "            file_name = getJsonFileName(date,file_number, json_file_path)\n",
    "            in_file = open(file_name, 'r')\n",
    "            articles = convert(json.loads(in_file.read()))\n",
    "            in_file.close()\n",
    "        except IOError as e:\n",
    "\t\t\tlogging.error(\"IOError in %s page %s: %s %s\", date, file_number, e.errno, e.strerror)\n",
    "\t\t\tcontinue\n",
    " \n",
    "        # if there are articles in that document, parse them\n",
    "        if len(articles[\"response\"][\"docs\"]) >= 1:  \n",
    "            # open the CSV for appending\n",
    "            try:\n",
    "                out_file = open(csv_file_name, 'ab')\n",
    "            except IOError as e:\n",
    "    \t\t\tlogging.error(\"IOError: %s %s\", date, file_number, e.errno, e.strerror)\n",
    "    \t\t\tcontinue\n",
    " \n",
    "            # loop through the articles putting what we need in a CSV   \n",
    "            try:\n",
    "                for article in articles[\"response\"][\"docs\"]:\n",
    "                    # if (article[\"source\"] == \"The New York Times\" and article[\"document_type\"] == \"article\"):\n",
    "                    keywords = \"\"\n",
    "                    keywords = getMultiples(article[\"keywords\"],\"value\")\n",
    " \n",
    "                    # should probably pull these if/else checks into a module\n",
    "                    variables = [\n",
    "                        article[\"pub_date\"], \n",
    "                        keywords, \n",
    "                        str(article[\"headline\"][\"main\"]).decode(\"utf8\").replace(\"\\n\",\"\") if \"main\" in article[\"headline\"].keys() else \"\", \n",
    "                        str(article[\"source\"]).decode(\"utf8\") if \"source\" in article.keys() else \"\", \n",
    "                        str(article[\"document_type\"]).decode(\"utf8\") if \"document_type\" in article.keys() else \"\", \n",
    "                        article[\"web_url\"] if \"web_url\" in article.keys() else \"\",\n",
    "                        str(article[\"news_desk\"]).decode(\"utf8\") if \"news_desk\" in article.keys() else \"\",\n",
    "                        str(article[\"section_name\"]).decode(\"utf8\") if \"section_name\" in article.keys() else \"\",\n",
    "                        str(article[\"snippet\"]).decode(\"utf8\").replace(\"\\n\",\"\") if \"snippet\" in article.keys() else \"\",\n",
    "                        str(article[\"lead_paragraph\"]).decode(\"utf8\").replace(\"\\n\",\"\") if \"lead_paragraph\" in article.keys() else \"\",\n",
    "                        ]\n",
    "                    line = \"\\t\".join(variables)\n",
    "                    out_file.write(line.encode(\"utf8\")+\"\\n\")\n",
    "            except KeyError as e:\n",
    "                logging.error(\"KeyError in %s page %s: %s %s\", date, file_number, e.errno, e.strerror)\n",
    "                continue\n",
    "            except (KeyboardInterrupt, SystemExit):\n",
    "                raise\n",
    "            except: \n",
    "                logging.error(\"Error on %s page %s: %s\", date, file_number, sys.exc_info()[0])\n",
    "                continue\n",
    " \n",
    "            out_file.close()\n",
    "        else:\n",
    "            break\n",
    " \n",
    "# Main function where stuff gets done\n",
    " \n",
    "def main():\n",
    "    parser = argparse.ArgumentParser(description=\"A Python tool for grabbing data from the New York Times Article API.\")\n",
    "    parser.add_argument('-j','--json', required=True, help=\"path to the folder where you want the JSON files stored\")\n",
    "    parser.add_argument('-c','--csv', required=True, help=\"path to the file where you want the CSV file stored\")\n",
    "    parser.add_argument('-k','--key', required=True, help=\"your NY Times Article API key\")\n",
    "    # parser.add_argument('-s','--start-date', required=True, help=\"start date for collecting articles\")\n",
    "    # parser.add_argument('-e','--end-date', required=True, help=\"end date for collecting articles\")\n",
    "    args = parser.parse_args()\n",
    " \n",
    "    json_file_path = args.json\n",
    "    csv_file_name = args.csv\n",
    "    api_key = args.key    \n",
    "    start = datetime.date( year = 2013, month = 1, day = 1 )\n",
    "    end = datetime.date( year = 2013, month = 1, day = 1 )\n",
    "    log_file = \"\".join([json_file_path,\"getTimesArticles_testing.log\"])\n",
    "    logging.basicConfig(filename=log_file, level=logging.INFO)\n",
    " \n",
    "    logging.info(\"Getting started.\") \n",
    "    try:\n",
    "        # LOOP THROUGH THE SPECIFIED DATES\n",
    "        for date in daterange( start, end ):\n",
    "            date = date.strftime(\"%Y%m%d\")\n",
    "            logging.info(\"Working on %s.\" % date)\n",
    "            getArticles(date, api_key, json_file_path)\n",
    "            parseArticles(date, csv_file_name, json_file_path)\n",
    "    except:\n",
    "        logging.error(\"Unexpected error: %s\", str(sys.exc_info()[0]))\n",
    "    finally:\n",
    "        logging.info(\"Finished.\")\n",
    " \n",
    "if __name__ == '__main__' :\n",
    "    main()"
   ]
  }
 ],
 "metadata": {
  "kernelspec": {
   "display_name": "Python 2",
   "language": "python",
   "name": "python2"
  },
  "language_info": {
   "codemirror_mode": {
    "name": "ipython",
    "version": 2
   },
   "file_extension": ".py",
   "mimetype": "text/x-python",
   "name": "python",
   "nbconvert_exporter": "python",
   "pygments_lexer": "ipython2",
   "version": "2.7.13"
  }
 },
 "nbformat": 4,
 "nbformat_minor": 2
}
