{
 "cells": [
  {
   "cell_type": "markdown",
   "metadata": {
    "_cell_guid": "e3595c6b-766e-2075-2fb4-60904d7ab6ec",
    "_uuid": "b1b039be86efef5d184474b2913381a5d7d2a478"
   },
   "source": [
    "Using rolling linear regression to predict MSFT closing prices"
   ]
  },
  {
   "cell_type": "code",
   "execution_count": 15,
   "metadata": {
    "collapsed": false
   },
   "outputs": [],
   "source": [
    "'''Predict stock market prices, make billions.'''\n",
    "\n",
    "# pylint: disable=invalid-name\n",
    "\n",
    "import numpy as np\n",
    "import pandas as pd\n",
    "import matplotlib.pyplot as plt\n",
    "\n",
    "# load data in numpy array\n",
    "STOCK_SYMBOL = 'MSFT'\n",
    "ALL_PRICES = pd.read_csv('./aapl5.csv')\n",
    "STOCK_PRICES = np.array(ALL_PRICES)\n",
    "\n",
    "# csv column indexes\n",
    "\n",
    "DATE_COL = 0\n",
    "#SYMBOL = 1\n",
    "OPEN_COL = 1\n",
    "CLOSE_COL = 4\n",
    "LOW_COL = 3\n",
    "HIGH_COL = 2\n",
    "VOLUME_COL = 5\n",
    "\n",
    "# hyper-parameters\n",
    "WINDOW_SIZE = 20\n",
    "TRAINING_RATIO = 0.8"
   ]
  },
  {
   "cell_type": "code",
   "execution_count": 10,
   "metadata": {
    "collapsed": false
   },
   "outputs": [
    {
     "data": {
      "text/html": [
       "<div>\n",
       "<style>\n",
       "    .dataframe thead tr:only-child th {\n",
       "        text-align: right;\n",
       "    }\n",
       "\n",
       "    .dataframe thead th {\n",
       "        text-align: left;\n",
       "    }\n",
       "\n",
       "    .dataframe tbody tr th {\n",
       "        vertical-align: top;\n",
       "    }\n",
       "</style>\n",
       "<table border=\"1\" class=\"dataframe\">\n",
       "  <thead>\n",
       "    <tr style=\"text-align: right;\">\n",
       "      <th></th>\n",
       "      <th>Date</th>\n",
       "      <th>Open</th>\n",
       "      <th>High</th>\n",
       "      <th>Low</th>\n",
       "      <th>Close</th>\n",
       "      <th>Volume</th>\n",
       "    </tr>\n",
       "  </thead>\n",
       "  <tbody>\n",
       "    <tr>\n",
       "      <th>0</th>\n",
       "      <td>28-Jun-17</td>\n",
       "      <td>144.49</td>\n",
       "      <td>146.11</td>\n",
       "      <td>143.16</td>\n",
       "      <td>145.83</td>\n",
       "      <td>21982505</td>\n",
       "    </tr>\n",
       "    <tr>\n",
       "      <th>1</th>\n",
       "      <td>27-Jun-17</td>\n",
       "      <td>145.01</td>\n",
       "      <td>146.16</td>\n",
       "      <td>143.62</td>\n",
       "      <td>143.73</td>\n",
       "      <td>24761891</td>\n",
       "    </tr>\n",
       "    <tr>\n",
       "      <th>2</th>\n",
       "      <td>26-Jun-17</td>\n",
       "      <td>147.17</td>\n",
       "      <td>148.28</td>\n",
       "      <td>145.38</td>\n",
       "      <td>145.82</td>\n",
       "      <td>25692361</td>\n",
       "    </tr>\n",
       "    <tr>\n",
       "      <th>3</th>\n",
       "      <td>23-Jun-17</td>\n",
       "      <td>145.13</td>\n",
       "      <td>147.16</td>\n",
       "      <td>145.11</td>\n",
       "      <td>146.28</td>\n",
       "      <td>35439389</td>\n",
       "    </tr>\n",
       "    <tr>\n",
       "      <th>4</th>\n",
       "      <td>22-Jun-17</td>\n",
       "      <td>145.77</td>\n",
       "      <td>146.70</td>\n",
       "      <td>145.12</td>\n",
       "      <td>145.63</td>\n",
       "      <td>19106294</td>\n",
       "    </tr>\n",
       "  </tbody>\n",
       "</table>\n",
       "</div>"
      ],
      "text/plain": [
       "        Date    Open    High     Low   Close    Volume\n",
       "0  28-Jun-17  144.49  146.11  143.16  145.83  21982505\n",
       "1  27-Jun-17  145.01  146.16  143.62  143.73  24761891\n",
       "2  26-Jun-17  147.17  148.28  145.38  145.82  25692361\n",
       "3  23-Jun-17  145.13  147.16  145.11  146.28  35439389\n",
       "4  22-Jun-17  145.77  146.70  145.12  145.63  19106294"
      ]
     },
     "execution_count": 10,
     "metadata": {},
     "output_type": "execute_result"
    }
   ],
   "source": [
    "ALL_PRICES.head()"
   ]
  },
  {
   "cell_type": "code",
   "execution_count": 22,
   "metadata": {
    "_cell_guid": "f1d7041c-cc98-fb64-e405-14cfeb845df3",
    "_execution_state": "idle",
    "_uuid": "71e696ac34bfca2aef88338062edfcddaac917ba",
    "collapsed": false
   },
   "outputs": [
    {
     "ename": "SyntaxError",
     "evalue": "invalid syntax (<ipython-input-22-161d3f41d1a2>, line 1)",
     "output_type": "error",
     "traceback": [
      "\u001b[0;36m  File \u001b[0;32m\"<ipython-input-22-161d3f41d1a2>\"\u001b[0;36m, line \u001b[0;32m1\u001b[0m\n\u001b[0;31m    ALL_PRICES[,0]\u001b[0m\n\u001b[0m               ^\u001b[0m\n\u001b[0;31mSyntaxError\u001b[0m\u001b[0;31m:\u001b[0m invalid syntax\n"
     ]
    }
   ],
   "source": []
  },
  {
   "cell_type": "code",
   "execution_count": 13,
   "metadata": {
    "_cell_guid": "276d29e1-200a-3ff1-f872-21e3e8df3c2c",
    "_uuid": "e06633e975cb567c5c0bb12dee8c12b091c69def",
    "collapsed": true
   },
   "outputs": [],
   "source": [
    "def get_r_squared(actuals, predicted):\n",
    "    '''Calculate r_squared'''\n",
    "    d1 = actuals - predicted\n",
    "    d2 = actuals - actuals.mean()\n",
    "    r_2 = 1 - d1.dot(d1) / d2.dot(d2)\n",
    "    return r_2\n",
    "\n",
    "\n",
    "def convert_numpy_dates_to_panda(numpy_dates):\n",
    "    '''Convert numpy dates to pandas dates'''\n",
    "    pd_dates = []\n",
    "    for date in numpy_dates.flatten():\n",
    "        pd_dates.append(pd.Timestamp(date))\n",
    "    return pd_dates"
   ]
  },
  {
   "cell_type": "code",
   "execution_count": 25,
   "metadata": {
    "_cell_guid": "a8f87389-557e-9f44-4b67-f1920de1cf63",
    "_uuid": "faa2e77634ecffe3e9232977ac49181875196665",
    "collapsed": false
   },
   "outputs": [
    {
     "data": {
      "text/plain": [
       "\"\\ndates = np.array(\\n    STOCK_PRICES[WINDOW_SIZE:, [DATE_COL]],\\n    dtype='datetime64'\\n)\\n\""
      ]
     },
     "execution_count": 25,
     "metadata": {},
     "output_type": "execute_result"
    }
   ],
   "source": [
    "# X is matrix of features and bias term\n",
    "X = np.array(\n",
    "    STOCK_PRICES[WINDOW_SIZE:, [OPEN, LOW, HIGH, VOLUME]],\n",
    "    dtype='float'\n",
    ")\n",
    "X = np.concatenate((X, np.ones((len(X), 1))), axis=1)\n",
    "num_orig_cols = X.shape[1]\n",
    "\n",
    "\n",
    "# Y is matrix of actual output values\n",
    "Y = np.array(\n",
    "    STOCK_PRICES[WINDOW_SIZE:, CLOSE_COL],\n",
    "    dtype='float'\n",
    ")\n",
    "\n",
    "\n",
    "# Dates are not features but we want to save them for plotting later\n",
    "'''\n",
    "dates = np.array(\n",
    "    STOCK_PRICES[WINDOW_SIZE:, [DATE_COL]],\n",
    "    dtype='datetime64'\n",
    ")\n",
    "'''"
   ]
  },
  {
   "cell_type": "code",
   "execution_count": 26,
   "metadata": {
    "_cell_guid": "b268cd72-dcae-54d3-714c-a7f355fd1517",
    "_uuid": "291e620a0e8f6134b81408475bba019385f6d744",
    "collapsed": true
   },
   "outputs": [],
   "source": [
    "# Add previous closing prices to X for 'Rolling Window Linear Regression'\n",
    "X = np.concatenate(\n",
    "    (X, np.zeros((len(X), WINDOW_SIZE))),\n",
    "    axis=1\n",
    ")\n",
    "for row in range(len(X)):\n",
    "    for day in range(1, WINDOW_SIZE + 1):\n",
    "        col_offset = num_orig_cols - 1 + day\n",
    "        row_offset = WINDOW_SIZE + row - day\n",
    "        X[row, col_offset] = STOCK_PRICES[row_offset, CLOSE_COL]\n",
    "\n",
    "assert X.shape[1] == (WINDOW_SIZE + num_orig_cols)\n",
    "# pd.DataFrame(X).to_csv('X.csv')\n",
    "# pd.DataFrame(Y).to_csv('Y.csv')"
   ]
  },
  {
   "cell_type": "code",
   "execution_count": 27,
   "metadata": {
    "_cell_guid": "80567d83-5f18-b437-b24d-840f2c270f5d",
    "_uuid": "6a704f91397c4a1c01be856a38efd2caf99d83e6",
    "collapsed": false
   },
   "outputs": [
    {
     "ename": "TypeError",
     "evalue": "'float' object cannot be interpreted as an index",
     "output_type": "error",
     "traceback": [
      "\u001b[0;31m---------------------------------------------------------------------------\u001b[0m",
      "\u001b[0;31mTypeError\u001b[0m                                 Traceback (most recent call last)",
      "\u001b[0;32m<ipython-input-27-576bfa2393d1>\u001b[0m in \u001b[0;36m<module>\u001b[0;34m()\u001b[0m\n\u001b[1;32m      3\u001b[0m     \u001b[0mlen\u001b[0m\u001b[1;33m(\u001b[0m\u001b[0mX\u001b[0m\u001b[1;33m)\u001b[0m\u001b[1;33m,\u001b[0m\u001b[1;33m\u001b[0m\u001b[0m\n\u001b[1;32m      4\u001b[0m     \u001b[0mround\u001b[0m\u001b[1;33m(\u001b[0m\u001b[0mlen\u001b[0m\u001b[1;33m(\u001b[0m\u001b[0mX\u001b[0m\u001b[1;33m)\u001b[0m \u001b[1;33m*\u001b[0m \u001b[0mTRAINING_RATIO\u001b[0m\u001b[1;33m)\u001b[0m\u001b[1;33m,\u001b[0m\u001b[1;33m\u001b[0m\u001b[0m\n\u001b[0;32m----> 5\u001b[0;31m     \u001b[0mreplace\u001b[0m\u001b[1;33m=\u001b[0m\u001b[0mFalse\u001b[0m\u001b[1;33m\u001b[0m\u001b[0m\n\u001b[0m\u001b[1;32m      6\u001b[0m )\n\u001b[1;32m      7\u001b[0m \u001b[0mtrain_indexes\u001b[0m\u001b[1;33m.\u001b[0m\u001b[0msort\u001b[0m\u001b[1;33m(\u001b[0m\u001b[1;33m)\u001b[0m\u001b[1;33m\u001b[0m\u001b[0m\n",
      "\u001b[0;32mmtrand.pyx\u001b[0m in \u001b[0;36mmtrand.RandomState.choice (numpy\\random\\mtrand\\mtrand.c:18822)\u001b[0;34m()\u001b[0m\n",
      "\u001b[0;31mTypeError\u001b[0m: 'float' object cannot be interpreted as an index"
     ]
    }
   ],
   "source": [
    "# Create training and test sets\n",
    "train_indexes = np.random.choice(\n",
    "    len(X),\n",
    "    round(len(X) * TRAINING_RATIO),\n",
    "    replace=False\n",
    ")\n",
    "train_indexes.sort()\n",
    "train_indexes.tolist()\n",
    "\n",
    "test_indexes = list(range(len(X)))\n",
    "for value in train_indexes:\n",
    "    test_indexes.remove(value)\n",
    "\n",
    "assert len(train_indexes) + len(test_indexes) == len(X)\n",
    "for i, value in enumerate(train_indexes):\n",
    "    assert value not in test_indexes\n",
    "\n",
    "X_train = X[train_indexes]\n",
    "Y_train = Y[train_indexes]\n",
    "X_test = X[test_indexes]\n",
    "Y_test = Y[test_indexes]"
   ]
  },
  {
   "cell_type": "code",
   "execution_count": null,
   "metadata": {
    "_cell_guid": "6fcdd067-c046-7cbb-ee3c-bfc4a52b96df",
    "_uuid": "9f72e4c45bc26883062d335b26e3a889c2564e47",
    "collapsed": true
   },
   "outputs": [],
   "source": [
    "# Solve for w (weights) on training data\n",
    "w = np.linalg.solve(X_train.T.dot(X_train), X_train.T.dot(Y_train))\n",
    "Y_train_hat = X_train.dot(w)\n",
    "train_r_2 = get_r_squared(Y_train, Y_train_hat)\n",
    "print('r_squared of training set is:', train_r_2)\n",
    "\n",
    "train_dates = convert_numpy_dates_to_panda(dates[train_indexes])\n",
    "plt.title('Training set')\n",
    "plt.scatter(train_dates, Y_train)\n",
    "plt.plot(train_dates, Y_train_hat, color='red')\n",
    "plt.show()"
   ]
  },
  {
   "cell_type": "code",
   "execution_count": null,
   "metadata": {
    "_cell_guid": "6780d0dc-3813-d000-78b8-9a5d7233c630",
    "_uuid": "891384642b9d7602ea61239884a91e5a36d51a15",
    "collapsed": true
   },
   "outputs": [],
   "source": [
    "# Use w from training data to predict values in test data\n",
    "Y_test_hat = X_test.dot(w)\n",
    "test_r_2 = get_r_squared(Y_test, Y_test_hat)\n",
    "print('r_squared of test set is:', test_r_2)\n",
    "\n",
    "test_dates = convert_numpy_dates_to_panda(dates[test_indexes])\n",
    "plt.title('Testing set')\n",
    "plt.scatter(test_dates, Y_test)\n",
    "plt.plot(test_dates, Y_test_hat, color='red')\n",
    "plt.show()\n"
   ]
  }
 ],
 "metadata": {
  "_change_revision": 0,
  "_is_fork": false,
  "kernelspec": {
   "display_name": "Python 2",
   "language": "python",
   "name": "python2"
  },
  "language_info": {
   "codemirror_mode": {
    "name": "ipython",
    "version": 2
   },
   "file_extension": ".py",
   "mimetype": "text/x-python",
   "name": "python",
   "nbconvert_exporter": "python",
   "pygments_lexer": "ipython2",
   "version": "2.7.13"
  }
 },
 "nbformat": 4,
 "nbformat_minor": 0
}
