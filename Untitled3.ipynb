{
 "cells": [
  {
   "cell_type": "code",
   "execution_count": null,
   "metadata": {
    "collapsed": true
   },
   "outputs": [],
   "source": [
    "import pandas as pd"
   ]
  },
  {
   "cell_type": "code",
   "execution_count": 2,
   "metadata": {
    "collapsed": true
   },
   "outputs": [],
   "source": [
    "df = pd.read_csv('googl5.csv')\n",
    "\n",
    "dates = df.index.values\n",
    "price = df['Close'].values"
   ]
  },
  {
   "cell_type": "code",
   "execution_count": 3,
   "metadata": {
    "collapsed": false
   },
   "outputs": [
    {
     "data": {
      "text/html": [
       "<div>\n",
       "<style>\n",
       "    .dataframe thead tr:only-child th {\n",
       "        text-align: right;\n",
       "    }\n",
       "\n",
       "    .dataframe thead th {\n",
       "        text-align: left;\n",
       "    }\n",
       "\n",
       "    .dataframe tbody tr th {\n",
       "        vertical-align: top;\n",
       "    }\n",
       "</style>\n",
       "<table border=\"1\" class=\"dataframe\">\n",
       "  <thead>\n",
       "    <tr style=\"text-align: right;\">\n",
       "      <th></th>\n",
       "      <th>Date</th>\n",
       "      <th>Open</th>\n",
       "      <th>High</th>\n",
       "      <th>Low</th>\n",
       "      <th>Close</th>\n",
       "      <th>Volume</th>\n",
       "    </tr>\n",
       "  </thead>\n",
       "  <tbody>\n",
       "    <tr>\n",
       "      <th>0</th>\n",
       "      <td>28-Jun-17</td>\n",
       "      <td>950.66</td>\n",
       "      <td>963.24</td>\n",
       "      <td>936.16</td>\n",
       "      <td>961.01</td>\n",
       "      <td>2745568</td>\n",
       "    </tr>\n",
       "    <tr>\n",
       "      <th>1</th>\n",
       "      <td>27-Jun-17</td>\n",
       "      <td>961.60</td>\n",
       "      <td>967.22</td>\n",
       "      <td>947.09</td>\n",
       "      <td>948.09</td>\n",
       "      <td>2443602</td>\n",
       "    </tr>\n",
       "    <tr>\n",
       "      <th>2</th>\n",
       "      <td>26-Jun-17</td>\n",
       "      <td>990.00</td>\n",
       "      <td>993.99</td>\n",
       "      <td>970.33</td>\n",
       "      <td>972.09</td>\n",
       "      <td>1517912</td>\n",
       "    </tr>\n",
       "    <tr>\n",
       "      <th>3</th>\n",
       "      <td>23-Jun-17</td>\n",
       "      <td>975.50</td>\n",
       "      <td>986.62</td>\n",
       "      <td>974.46</td>\n",
       "      <td>986.09</td>\n",
       "      <td>1563985</td>\n",
       "    </tr>\n",
       "    <tr>\n",
       "      <th>4</th>\n",
       "      <td>22-Jun-17</td>\n",
       "      <td>976.87</td>\n",
       "      <td>980.50</td>\n",
       "      <td>973.31</td>\n",
       "      <td>976.62</td>\n",
       "      <td>1009476</td>\n",
       "    </tr>\n",
       "  </tbody>\n",
       "</table>\n",
       "</div>"
      ],
      "text/plain": [
       "        Date    Open    High     Low   Close   Volume\n",
       "0  28-Jun-17  950.66  963.24  936.16  961.01  2745568\n",
       "1  27-Jun-17  961.60  967.22  947.09  948.09  2443602\n",
       "2  26-Jun-17  990.00  993.99  970.33  972.09  1517912\n",
       "3  23-Jun-17  975.50  986.62  974.46  986.09  1563985\n",
       "4  22-Jun-17  976.87  980.50  973.31  976.62  1009476"
      ]
     },
     "execution_count": 3,
     "metadata": {},
     "output_type": "execute_result"
    }
   ],
   "source": [
    "df.head()"
   ]
  },
  {
   "cell_type": "code",
   "execution_count": 11,
   "metadata": {
    "collapsed": false
   },
   "outputs": [
    {
     "data": {
      "text/html": [
       "<div>\n",
       "<style>\n",
       "    .dataframe thead tr:only-child th {\n",
       "        text-align: right;\n",
       "    }\n",
       "\n",
       "    .dataframe thead th {\n",
       "        text-align: left;\n",
       "    }\n",
       "\n",
       "    .dataframe tbody tr th {\n",
       "        vertical-align: top;\n",
       "    }\n",
       "</style>\n",
       "<table border=\"1\" class=\"dataframe\">\n",
       "  <thead>\n",
       "    <tr style=\"text-align: right;\">\n",
       "      <th></th>\n",
       "      <th>Volume</th>\n",
       "      <th>Open</th>\n",
       "      <th>Low</th>\n",
       "      <th>High</th>\n",
       "      <th>Date</th>\n",
       "      <th>Close</th>\n",
       "    </tr>\n",
       "  </thead>\n",
       "  <tbody>\n",
       "    <tr>\n",
       "      <th>1256</th>\n",
       "      <td>2522562</td>\n",
       "      <td>287.77</td>\n",
       "      <td>286.39</td>\n",
       "      <td>290.36</td>\n",
       "      <td>29-Jun-12</td>\n",
       "      <td>290.33</td>\n",
       "    </tr>\n",
       "    <tr>\n",
       "      <th>1255</th>\n",
       "      <td>1655563</td>\n",
       "      <td>291.20</td>\n",
       "      <td>288.54</td>\n",
       "      <td>291.79</td>\n",
       "      <td>2-Jul-12</td>\n",
       "      <td>290.53</td>\n",
       "    </tr>\n",
       "    <tr>\n",
       "      <th>1254</th>\n",
       "      <td>1190525</td>\n",
       "      <td>290.30</td>\n",
       "      <td>289.29</td>\n",
       "      <td>294.50</td>\n",
       "      <td>3-Jul-12</td>\n",
       "      <td>294.21</td>\n",
       "    </tr>\n",
       "    <tr>\n",
       "      <th>1253</th>\n",
       "      <td>2345901</td>\n",
       "      <td>294.67</td>\n",
       "      <td>294.56</td>\n",
       "      <td>300.33</td>\n",
       "      <td>5-Jul-12</td>\n",
       "      <td>298.26</td>\n",
       "    </tr>\n",
       "    <tr>\n",
       "      <th>1252</th>\n",
       "      <td>2162328</td>\n",
       "      <td>296.52</td>\n",
       "      <td>291.70</td>\n",
       "      <td>297.06</td>\n",
       "      <td>6-Jul-12</td>\n",
       "      <td>293.28</td>\n",
       "    </tr>\n",
       "  </tbody>\n",
       "</table>\n",
       "</div>"
      ],
      "text/plain": [
       "       Volume    Open     Low    High       Date   Close\n",
       "1256  2522562  287.77  286.39  290.36  29-Jun-12  290.33\n",
       "1255  1655563  291.20  288.54  291.79   2-Jul-12  290.53\n",
       "1254  1190525  290.30  289.29  294.50   3-Jul-12  294.21\n",
       "1253  2345901  294.67  294.56  300.33   5-Jul-12  298.26\n",
       "1252  2162328  296.52  291.70  297.06   6-Jul-12  293.28"
      ]
     },
     "execution_count": 11,
     "metadata": {},
     "output_type": "execute_result"
    }
   ],
   "source": [
    "df = df.sort_index(axis=1, ascending=False)\n",
    "df.head()"
   ]
  }
 ],
 "metadata": {
  "kernelspec": {
   "display_name": "Python 2",
   "language": "python",
   "name": "python2"
  },
  "language_info": {
   "codemirror_mode": {
    "name": "ipython",
    "version": 2
   },
   "file_extension": ".py",
   "mimetype": "text/x-python",
   "name": "python",
   "nbconvert_exporter": "python",
   "pygments_lexer": "ipython2",
   "version": "2.7.13"
  }
 },
 "nbformat": 4,
 "nbformat_minor": 2
}
